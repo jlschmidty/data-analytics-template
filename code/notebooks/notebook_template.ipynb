{
 "cells": [
  {
   "cell_type": "markdown",
   "id": "27d9f9cf-74fe-4c53-9d1d-d47fa8b0164b",
   "metadata": {},
   "source": [
    "# Project Name"
   ]
  },
  {
   "cell_type": "markdown",
   "id": "f7e1bbab-5d60-47bf-9759-746c36e7151f",
   "metadata": {},
   "source": [
    "**Auther:** Jackson Schmidt\n",
    "**Last Modified:** 11-17-2024 (created: 11-17-2024)\n",
    "\n",
    "**Description:** Short paragraph explaining this project."
   ]
  },
  {
   "cell_type": "markdown",
   "id": "fe5be998-c150-49ed-a1f9-9c352d634ac8",
   "metadata": {},
   "source": [
    "<br>"
   ]
  },
  {
   "cell_type": "markdown",
   "id": "356879c2-7707-4eef-92de-13b441f3a135",
   "metadata": {},
   "source": [
    "Import Libraries:"
   ]
  },
  {
   "cell_type": "code",
   "execution_count": 1,
   "id": "d3443309-819c-4cd9-9307-e383480232ec",
   "metadata": {},
   "outputs": [],
   "source": [
    "import pandas as pd"
   ]
  },
  {
   "cell_type": "markdown",
   "id": "04f3b505-bd4b-4dd1-a9a1-8aa2c22a3078",
   "metadata": {},
   "source": [
    "<br>"
   ]
  },
  {
   "cell_type": "markdown",
   "id": "f00e6dd3-17fd-42a4-9dd3-138cc07ddfce",
   "metadata": {},
   "source": [
    "Load Data:"
   ]
  },
  {
   "cell_type": "code",
   "execution_count": 2,
   "id": "a64e31de-cc2f-4d21-aef9-024070d9da92",
   "metadata": {},
   "outputs": [],
   "source": [
    "# Code to read csv file"
   ]
  }
 ],
 "metadata": {
  "kernelspec": {
   "display_name": "Python 3 (ipykernel)",
   "language": "python",
   "name": "python3"
  },
  "language_info": {
   "codemirror_mode": {
    "name": "ipython",
    "version": 3
   },
   "file_extension": ".py",
   "mimetype": "text/x-python",
   "name": "python",
   "nbconvert_exporter": "python",
   "pygments_lexer": "ipython3",
   "version": "3.12.4"
  }
 },
 "nbformat": 4,
 "nbformat_minor": 5
}
